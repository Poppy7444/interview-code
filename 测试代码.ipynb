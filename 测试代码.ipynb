{
 "cells": [
  {
   "cell_type": "code",
   "execution_count": 3,
   "metadata": {
    "collapsed": true,
    "pycharm": {
     "is_executing": false
    }
   },
   "outputs": [
    {
     "data": {
      "text/plain": "['i',\n 'have',\n 'a',\n 'dream',\n 'i',\n 'am',\n 'a',\n 'human',\n 'you',\n 'can',\n 'have',\n 'dream',\n 'too.']"
     },
     "metadata": {},
     "output_type": "execute_result",
     "execution_count": 3
    }
   ],
   "source": [
    "\"i have a dream i am a human you can have dream too.\".split(\" \")"
   ]
  },
  {
   "cell_type": "code",
   "execution_count": 19,
   "outputs": [
    {
     "name": "stdout",
     "text": [
      "2\n",
      "3\n",
      "4\n",
      "5\n",
      "6\n",
      "7\n",
      "8\n",
      "9\n"
     ],
     "output_type": "stream"
    },
    {
     "data": {
      "text/plain": "'1 2 3'"
     },
     "metadata": {},
     "output_type": "execute_result",
     "execution_count": 19
    }
   ],
   "source": [
    "[\"1\",\"2\",\"3\"][0:2]\n",
    "\n",
    "for i in range(2,10):\n",
    "    print(i)\n",
    "\n",
    "\" \".join([\"1\",\"2\",\"3\"])"
   ],
   "metadata": {
    "collapsed": false,
    "pycharm": {
     "name": "#%%\n",
     "is_executing": false
    }
   }
  },
  {
   "cell_type": "code",
   "execution_count": 2,
   "outputs": [
    {
     "name": "stdout",
     "text": [
      "{'1': 5, '2': 2} {'1': 1, '2': 2}\n",
      "<class 'int'>\n"
     ],
     "output_type": "stream"
    }
   ],
   "source": [
    "# copy\n",
    "\n",
    "d = {'1':1,'2':2}\n",
    "t = d.copy()\n",
    "d['1'] = 5\n",
    "print(d,t)\n",
    "print(type((1)))\n"
   ],
   "metadata": {
    "collapsed": false,
    "pycharm": {
     "name": "#%%\n",
     "is_executing": false
    }
   }
  },
  {
   "cell_type": "code",
   "execution_count": null,
   "outputs": [],
   "source": [
    "foo = [1,2]\n",
    "foo1 = foo\n",
    "foo.append(3)\n",
    "print(foo1,foo)"
   ],
   "metadata": {
    "collapsed": false,
    "pycharm": {
     "name": "#%%\n",
     "is_executing": true
    }
   }
  },
  {
   "cell_type": "code",
   "execution_count": 13,
   "outputs": [
    {
     "name": "stdout",
     "text": [
      "True\n"
     ],
     "output_type": "stream"
    },
    {
     "data": {
      "text/plain": "True"
     },
     "metadata": {},
     "output_type": "execute_result",
     "execution_count": 13
    }
   ],
   "source": [
    "a = 'a'\n",
    "print('c' > 'b' or 'c')\n",
    "\n",
    "{100:200}\n",
    "\n",
    "d = {(1,2,3):'test'}\n",
    " #字典中的key必须是不可变类型可以被hash的\n",
    " #如:数字，字符串，元组\n",
    "\n",
    "\n",
    "\"123\".endswith(\"23\",0)"
   ],
   "metadata": {
    "collapsed": false,
    "pycharm": {
     "name": "#%%\n",
     "is_executing": false
    }
   }
  },
  {
   "cell_type": "code",
   "execution_count": 15,
   "outputs": [
    {
     "name": "stdout",
     "text": [
      "10\n"
     ],
     "output_type": "stream"
    }
   ],
   "source": [
    "list1 = {'1':1,'2':2}\n",
    "list2 = list1\n",
    "list1['1'] = 5\n",
    "sum = list1['1'] + list2['1']\n",
    "print(sum)\n"
   ],
   "metadata": {
    "collapsed": false,
    "pycharm": {
     "name": "#%%\n",
     "is_executing": false
    }
   }
  }
 ],
 "metadata": {
  "kernelspec": {
   "display_name": "Python 3",
   "language": "python",
   "name": "python3"
  },
  "language_info": {
   "codemirror_mode": {
    "name": "ipython",
    "version": 2
   },
   "file_extension": ".py",
   "mimetype": "text/x-python",
   "name": "python",
   "nbconvert_exporter": "python",
   "pygments_lexer": "ipython2",
   "version": "2.7.6"
  },
  "pycharm": {
   "stem_cell": {
    "cell_type": "raw",
    "source": [],
    "metadata": {
     "collapsed": false
    }
   }
  }
 },
 "nbformat": 4,
 "nbformat_minor": 0
}